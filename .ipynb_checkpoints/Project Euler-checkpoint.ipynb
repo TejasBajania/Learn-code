{
 "cells": [
  {
   "cell_type": "markdown",
   "metadata": {},
   "source": [
    "# Project Euler"
   ]
  },
  {
   "cell_type": "markdown",
   "metadata": {},
   "source": [
    "## Largest product in series"
   ]
  },
  {
   "cell_type": "code",
   "execution_count": 22,
   "metadata": {},
   "outputs": [
    {
     "name": "stdout",
     "output_type": "stream",
     "text": [
      "The largest value is 23514624000\n"
     ]
    }
   ],
   "source": [
    "number = \"7316717653133062491922511967442657474235534919493496983520312774506326239578318016984801869478851843858615607891129494954595017379583319528532088055111254069874715852386305071569329096329522744304355766896648950445244523161731856403098711121722383113622298934233803081353362766142828064444866452387493035890729629049156044077239071381051585930796086670172427121883998797908792274921901699720888093776657273330010533678812202354218097512545405947522435258490771167055601360483958644670632441572215539753697817977846174064955149290862569321978468622482839722413756570560574902614079729686524145351004748216637048440319989000889524345065854122758866688116427171479924442928230863465674813919123162824586178664583591245665294765456828489128831426076900422421902267105562632111110937054421750694165896040807198403850962455444362981230987879927244284909188845801561660979191338754992005240636899125607176060588611646710940507754100225698315520005593572972571636269561882670428252483600823257530420752963450\"\n",
    "product = []\n",
    "try:\n",
    "    for i in range(len(number)):\n",
    "        list_13range = []\n",
    "        prod_13 = 1 \n",
    "        for j in range(i,i+13):\n",
    "            list_13range.append(number[j])\n",
    "        for k in list_13range:\n",
    "            prod_13 = prod_13*int(k)\n",
    "        product.append(prod_13)\n",
    "except Exception as e:\n",
    "    print(\"The largest value is {}\".format(max(product)))"
   ]
  },
  {
   "cell_type": "markdown",
   "metadata": {},
   "source": [
    "## Special pythagorean triplet\n",
    "\n",
    "\n",
    "A Pythagorean triplet is a set of three natural numbers, a < b < c, for which,\n",
    "\n",
    "a^2 + b^2 = c^2\n",
    "For example, 3^2 + 4^2 = 9 + 16 = 25 = 52.\n",
    "\n",
    "There exists exactly one Pythagorean triplet for which a + b + c = 1000.\n",
    "Find the product abc."
   ]
  },
  {
   "cell_type": "code",
   "execution_count": 36,
   "metadata": {},
   "outputs": [
    {
     "name": "stdout",
     "output_type": "stream",
     "text": [
      "product: 31875000\n"
     ]
    }
   ],
   "source": [
    "def check_for_triplet(num):\n",
    "    c,m = 0,2\n",
    "    while c < num:\n",
    "        for n in range(1,m):\n",
    "            a = m * m - n * n \n",
    "            b = 2 * m * n \n",
    "            c = m * m + n * n \n",
    "            if c > num : \n",
    "                break \n",
    "  \n",
    "            if a + b + c == 1000:\n",
    "                print(\"product: {}\".format(a*b*c))\n",
    "        m = m + 1\n",
    "    \n",
    "check_for_triplet(1000)"
   ]
  },
  {
   "cell_type": "markdown",
   "metadata": {},
   "source": [
    "## Sum of prime numbers\n",
    "Find sum of prime numbers below 2 million"
   ]
  },
  {
   "cell_type": "code",
   "execution_count": 44,
   "metadata": {},
   "outputs": [
    {
     "name": "stdout",
     "output_type": "stream",
     "text": [
      "not prime set()\n",
      "sum is 142913828922\n"
     ]
    }
   ],
   "source": [
    "def sieve_set(n=2000000):\n",
    "    not_prime = set()\n",
    "    primes = []\n",
    "    print(\"not prime {}\".format(not_prime))\n",
    "    for i in range(2, n+1): \n",
    "        if i not in not_prime:\n",
    "            primes.append(i) \n",
    "            for j in range(i*i, n+1, i): \n",
    "                not_prime.add(j)\n",
    "\n",
    "    return primes\n",
    "primes = sieve_set()\n",
    "print(\"sum is {}\".format(sum(primes)))"
   ]
  },
  {
   "cell_type": "markdown",
   "metadata": {},
   "source": [
    "## Sum of even fibonacci"
   ]
  },
  {
   "cell_type": "code",
   "execution_count": 4,
   "metadata": {},
   "outputs": [
    {
     "name": "stdout",
     "output_type": "stream",
     "text": [
      "4613732\n"
     ]
    }
   ],
   "source": [
    "def evenFibSum(limit) : \n",
    "    if (limit < 2) : \n",
    "        return 0\n",
    "  \n",
    "    # Initialize first two even prime numbers \n",
    "    # and their sum \n",
    "    ef1 = 0\n",
    "    ef2 = 2\n",
    "    sm= ef1 + ef2 \n",
    "      \n",
    "    # calculating sum of even Fibonacci value \n",
    "    while (ef2 <= limit) : \n",
    "  \n",
    "        # get next even value of Fibonacci  \n",
    "        # sequence \n",
    "        ef3 = 4 * ef2 + ef1 \n",
    "  \n",
    "        # If we go beyond limit, we break loop \n",
    "        if (ef3 > limit) : \n",
    "            break\n",
    "  \n",
    "        # Move to next even number and update \n",
    "        # sum \n",
    "        ef1 = ef2 \n",
    "        ef2 = ef3 \n",
    "        sm = sm + ef2 \n",
    "      \n",
    "    return sm \n",
    "  \n",
    "# Driver code \n",
    "limit = 4000000\n",
    "print(evenFibSum(limit)) "
   ]
  },
  {
   "cell_type": "markdown",
   "metadata": {},
   "source": [
    "## Prime Factor"
   ]
  },
  {
   "cell_type": "code",
   "execution_count": 4,
   "metadata": {},
   "outputs": [
    {
     "name": "stdout",
     "output_type": "stream",
     "text": [
      "i 71\n",
      "number/i 8462696833.0\n",
      "i 839\n",
      "number/i 10086647.0\n",
      "i 1471\n",
      "number/i 6857.0\n",
      "i 6857\n",
      "number/i 1.0\n"
     ]
    }
   ],
   "source": [
    "import math \n",
    "def prime_factor(number):\n",
    "    while number % 2 == 0:\n",
    "        print(2)\n",
    "        print(\"number/2 {}\".format(number/2))\n",
    "        number = number/2\n",
    "    for i in range(3,int(math.sqrt(number))+1,2):\n",
    "        while number % i== 0:\n",
    "            print (\"i {}\".format(i))\n",
    "            print(\"number/i {}\".format(number/i))\n",
    "            number = number / i\n",
    "    if number > 2: \n",
    "        print(\"number > 2 {}\".format(number))\n",
    "    \n",
    "prime_factor(600851475143)"
   ]
  },
  {
   "cell_type": "markdown",
   "metadata": {},
   "source": [
    "## Largest Palindrome "
   ]
  },
  {
   "cell_type": "code",
   "execution_count": 31,
   "metadata": {},
   "outputs": [
    {
     "name": "stdout",
     "output_type": "stream",
     "text": [
      "906609\n"
     ]
    }
   ],
   "source": [
    "palin_list = []\n",
    "def is_palindrome(num):\n",
    "    return str(num) == str(num)[::-1]\n",
    "for i in range(100,1000):\n",
    "    for j in range(i,1000):\n",
    "#         print(\"i {}, j {}\".format(i,j))\n",
    "        prod = i*j\n",
    "#         print(prod)\n",
    "        if is_palindrome(prod):\n",
    "            palin_list.append(prod)\n",
    "            \n",
    "print(max(palin_list))"
   ]
  },
  {
   "cell_type": "markdown",
   "metadata": {},
   "source": [
    "## Smallest multiple"
   ]
  },
  {
   "cell_type": "code",
   "execution_count": 58,
   "metadata": {
    "scrolled": true
   },
   "outputs": [
    {
     "name": "stdout",
     "output_type": "stream",
     "text": [
      "232792560\n"
     ]
    }
   ],
   "source": [
    "all_num = [x for x in range(1,21)]\n",
    "\n",
    "\n",
    "def diVide_test(num):\n",
    "    coll_num = []\n",
    "    for i in all_num:\n",
    "#         print(\"i {}\".format(i))\n",
    "        if num % i == 0:\n",
    "            coll_num.append(i)\n",
    "#     print(coll_num)\n",
    "    if coll_num == all_num:\n",
    "        return True\n",
    "    else: \n",
    "        return False\n",
    "    \n",
    "for i in range(2520,10000000000):\n",
    "    if diVide_test(i):\n",
    "        print(i)\n",
    "        break\n",
    "#     print(\"num {} result {}\".format(i,diVide_test(i)))\n",
    "    "
   ]
  },
  {
   "cell_type": "markdown",
   "metadata": {},
   "source": [
    "## Sum square difference"
   ]
  },
  {
   "cell_type": "code",
   "execution_count": 65,
   "metadata": {},
   "outputs": [
    {
     "name": "stdout",
     "output_type": "stream",
     "text": [
      "sum_of_squares 338350\n",
      "square_of_sums 25502500\n",
      "Difference 25164150\n"
     ]
    }
   ],
   "source": [
    "def sum_squares(num):\n",
    "    sum_of_squares = 0 \n",
    "    square_of_sums = 0\n",
    "    sum_of_list = []\n",
    "    square_of_list = []\n",
    "    \n",
    "    for i in range(1,num+1):\n",
    "        \n",
    "        sum_of_squares = sum_of_squares + (i*i)\n",
    "        square_of_list.append(i)  \n",
    "        \n",
    "    print(\"sum_of_squares {}\".format(sum_of_squares))\n",
    "    print(\"square_of_sums {}\".format(sum(square_of_list)*sum(square_of_list)))\n",
    "    print(\"Difference {}\".format(sum(square_of_list)*sum(square_of_list)-sum_of_squares))\n",
    "    \n",
    "sum_squares(100)"
   ]
  },
  {
   "cell_type": "markdown",
   "metadata": {},
   "source": [
    "## 10001st prime"
   ]
  },
  {
   "cell_type": "code",
   "execution_count": 16,
   "metadata": {},
   "outputs": [
    {
     "name": "stdout",
     "output_type": "stream",
     "text": [
      "104743\n"
     ]
    }
   ],
   "source": [
    "def sieve_set(n=1000000):\n",
    "    not_prime = set()\n",
    "    primes = []\n",
    "    for i in range(2, n+1): \n",
    "        if i not in not_prime:\n",
    "    \n",
    "            primes.append(i) \n",
    "            for j in range(i*i, n+1, i): \n",
    "                not_prime.add(j)\n",
    "\n",
    "    return primes\n",
    "primes = sieve_set()\n",
    "print(primes[10000])"
   ]
  },
  {
   "cell_type": "markdown",
   "metadata": {},
   "source": [
    "## Largest product in a grid"
   ]
  },
  {
   "cell_type": "markdown",
   "metadata": {},
   "source": [
    "Pending?????"
   ]
  },
  {
   "cell_type": "markdown",
   "metadata": {},
   "source": [
    "## Highly divisible triangular number"
   ]
  },
  {
   "cell_type": "code",
   "execution_count": 56,
   "metadata": {},
   "outputs": [
    {
     "ename": "KeyboardInterrupt",
     "evalue": "",
     "output_type": "error",
     "traceback": [
      "\u001b[1;31m---------------------------------------------------------------------------\u001b[0m",
      "\u001b[1;31mKeyboardInterrupt\u001b[0m                         Traceback (most recent call last)",
      "\u001b[1;32m<ipython-input-56-043d31a089b1>\u001b[0m in \u001b[0;36m<module>\u001b[1;34m\u001b[0m\n\u001b[0;32m     20\u001b[0m \u001b[1;32mfor\u001b[0m \u001b[0mj\u001b[0m \u001b[1;32min\u001b[0m \u001b[0mrange\u001b[0m\u001b[1;33m(\u001b[0m\u001b[1;33m(\u001b[0m\u001b[0mlen\u001b[0m\u001b[1;33m(\u001b[0m\u001b[0mTrIlist\u001b[0m\u001b[1;33m)\u001b[0m\u001b[1;33m-\u001b[0m\u001b[1;36m1\u001b[0m\u001b[1;33m)\u001b[0m\u001b[1;33m//\u001b[0m\u001b[1;36m2\u001b[0m\u001b[1;33m,\u001b[0m\u001b[0mlen\u001b[0m\u001b[1;33m(\u001b[0m\u001b[0mTrIlist\u001b[0m\u001b[1;33m)\u001b[0m\u001b[1;33m-\u001b[0m\u001b[1;36m1\u001b[0m\u001b[1;33m)\u001b[0m\u001b[1;33m:\u001b[0m\u001b[1;33m\u001b[0m\u001b[0m\n\u001b[0;32m     21\u001b[0m \u001b[1;31m#     print(j)\u001b[0m\u001b[1;33m\u001b[0m\u001b[1;33m\u001b[0m\u001b[0m\n\u001b[1;32m---> 22\u001b[1;33m     \u001b[0mnumb\u001b[0m \u001b[1;33m=\u001b[0m \u001b[0mlen\u001b[0m\u001b[1;33m(\u001b[0m\u001b[0mprime_factor\u001b[0m\u001b[1;33m(\u001b[0m\u001b[0mj\u001b[0m\u001b[1;33m)\u001b[0m\u001b[1;33m)\u001b[0m\u001b[1;33m\u001b[0m\u001b[0m\n\u001b[0m\u001b[0;32m     23\u001b[0m \u001b[1;31m#     print(\"j:{},numb:{}\".format(j,numb))\u001b[0m\u001b[1;33m\u001b[0m\u001b[1;33m\u001b[0m\u001b[0m\n\u001b[0;32m     24\u001b[0m \u001b[1;31m#     print(numb)\u001b[0m\u001b[1;33m\u001b[0m\u001b[1;33m\u001b[0m\u001b[0m\n",
      "\u001b[1;32m<ipython-input-56-043d31a089b1>\u001b[0m in \u001b[0;36mprime_factor\u001b[1;34m(number)\u001b[0m\n\u001b[0;32m      3\u001b[0m     \u001b[0mprime_list\u001b[0m \u001b[1;33m=\u001b[0m \u001b[1;33m[\u001b[0m\u001b[1;36m1\u001b[0m\u001b[1;33m]\u001b[0m\u001b[1;33m\u001b[0m\u001b[0m\n\u001b[0;32m      4\u001b[0m     \u001b[1;32mfor\u001b[0m \u001b[0mi\u001b[0m \u001b[1;32min\u001b[0m \u001b[0mrange\u001b[0m\u001b[1;33m(\u001b[0m\u001b[1;36m2\u001b[0m\u001b[1;33m,\u001b[0m\u001b[0mnumber\u001b[0m\u001b[1;33m)\u001b[0m\u001b[1;33m:\u001b[0m\u001b[1;33m\u001b[0m\u001b[0m\n\u001b[1;32m----> 5\u001b[1;33m         \u001b[1;32mif\u001b[0m \u001b[0mnumber\u001b[0m \u001b[1;33m%\u001b[0m \u001b[0mi\u001b[0m \u001b[1;33m==\u001b[0m \u001b[1;36m0\u001b[0m\u001b[1;33m:\u001b[0m\u001b[1;33m\u001b[0m\u001b[0m\n\u001b[0m\u001b[0;32m      6\u001b[0m             \u001b[0mprime_list\u001b[0m\u001b[1;33m.\u001b[0m\u001b[0mappend\u001b[0m\u001b[1;33m(\u001b[0m\u001b[0mi\u001b[0m\u001b[1;33m)\u001b[0m\u001b[1;33m\u001b[0m\u001b[0m\n\u001b[0;32m      7\u001b[0m             \u001b[0mi\u001b[0m \u001b[1;33m=\u001b[0m \u001b[0mi\u001b[0m \u001b[1;33m+\u001b[0m \u001b[1;36m1\u001b[0m\u001b[1;33m\u001b[0m\u001b[0m\n",
      "\u001b[1;31mKeyboardInterrupt\u001b[0m: "
     ]
    }
   ],
   "source": [
    "import time\n",
    "def prime_factor(number):\n",
    "    prime_list = [1]\n",
    "    for i in range(2,number):\n",
    "        if number % i == 0:\n",
    "            prime_list.append(i)\n",
    "            i = i + 1\n",
    "    prime_list.append(number)\n",
    "#     print(prime_list)\n",
    "    return prime_list\n",
    "TrIlist = []\n",
    "sum1 = 0\n",
    "TrIan = []\n",
    "t1 = time.time()\n",
    "for i in range(1,1000000):\n",
    "    sum1 = sum1+i\n",
    "    TrIlist.append(sum1)\n",
    "# print(TrIlist[len(TrIlist)-1])\n",
    "# print(TrIlist[(len(TrIlist)-1)//2])\n",
    "for j in range((len(TrIlist)-1)//2,len(TrIlist)-1):\n",
    "#     print(j)\n",
    "    numb = len(prime_factor(j))\n",
    "#     print(\"j:{},numb:{}\".format(j,numb))\n",
    "#     print(numb)\n",
    "    if numb > 500:\n",
    "        print(\"Result {}\".format(j))\n",
    "        break\n",
    "print(\"Time taken: {}\".format(time.time()-t1))"
   ]
  },
  {
   "cell_type": "code",
   "execution_count": 59,
   "metadata": {},
   "outputs": [],
   "source": [
    "time = '\"dnjdn\"'"
   ]
  },
  {
   "cell_type": "code",
   "execution_count": 60,
   "metadata": {},
   "outputs": [
    {
     "data": {
      "text/plain": [
       "'\"dnjdn\"'"
      ]
     },
     "execution_count": 60,
     "metadata": {},
     "output_type": "execute_result"
    }
   ],
   "source": [
    "time"
   ]
  },
  {
   "cell_type": "code",
   "execution_count": 24,
   "metadata": {},
   "outputs": [
    {
     "name": "stdout",
     "output_type": "stream",
     "text": [
      "15\n",
      "6 5 2 3 5 2 2 1 1 5 1 3 3 3 5\n",
      "ar -- [1, 1, 1, 2, 2, 2, 3, 3, 3, 3, 5, 5, 5, 5, 6]\n",
      "1 1\n",
      "here for 1 and 1\n",
      "1 2\n",
      "outside for 1 and 2\n",
      "2 2\n",
      "here for 2 and 2\n",
      "2 3\n",
      "outside for 2 and 3\n",
      "3 3\n",
      "here for 3 and 3\n",
      "3 3\n",
      "here for 3 and 3\n",
      "5 5\n",
      "here for 5 and 5\n",
      "5 5\n",
      "here for 5 and 5\n",
      "6\n"
     ]
    }
   ],
   "source": [
    "#!/bin/python3\n",
    "\n",
    "import math\n",
    "import os\n",
    "import random\n",
    "import re\n",
    "import sys\n",
    "\n",
    "# Complete the sockMerchant function below.\n",
    "def sockMerchant(n, ar):\n",
    "    socks_ = 0\n",
    "    i=0 \n",
    "    ar.sort()\n",
    "    print('ar -- {}'.format(ar))\n",
    "    while i < n-1:\n",
    "        print(ar[i],ar[i+1])\n",
    "        if ar[i] == ar[i+1]:\n",
    "            print('here for {} and {}'.format(ar[i],ar[i+1]))\n",
    "            socks_+=1\n",
    "            i+=2\n",
    "        else:\n",
    "            print('outside for {} and {}'.format(ar[i],ar[i+1]))\n",
    "            i+=1\n",
    "    return socks_\n",
    "                \n",
    "\n",
    "if __name__ == '__main__':\n",
    "    \n",
    "    n = int(input())\n",
    "\n",
    "    ar = list(map(int, input().rstrip().split()))\n",
    "\n",
    "    result = sockMerchant(n, ar)\n",
    "    print(result)"
   ]
  },
  {
   "cell_type": "code",
   "execution_count": 25,
   "metadata": {},
   "outputs": [],
   "source": [
    "string = 'UDDDUU'"
   ]
  },
  {
   "cell_type": "code",
   "execution_count": 26,
   "metadata": {},
   "outputs": [
    {
     "name": "stdout",
     "output_type": "stream",
     "text": [
      "U\n",
      "D\n",
      "D\n",
      "D\n",
      "U\n",
      "U\n"
     ]
    }
   ],
   "source": [
    "for i in string:\n",
    "    print(i)"
   ]
  },
  {
   "cell_type": "markdown",
   "metadata": {},
   "source": [
    "## Handshake "
   ]
  },
  {
   "cell_type": "code",
   "execution_count": 11,
   "metadata": {},
   "outputs": [
    {
     "name": "stdout",
     "output_type": "stream",
     "text": [
      "435\n"
     ]
    }
   ],
   "source": [
    "n = 30\n",
    "hand_shake = []\n",
    "\n",
    "print(n*(n-1)//2)"
   ]
  },
  {
   "cell_type": "code",
   "execution_count": null,
   "metadata": {},
   "outputs": [],
   "source": []
  }
 ],
 "metadata": {
  "kernelspec": {
   "display_name": "Python 3",
   "language": "python",
   "name": "python3"
  },
  "language_info": {
   "codemirror_mode": {
    "name": "ipython",
    "version": 3
   },
   "file_extension": ".py",
   "mimetype": "text/x-python",
   "name": "python",
   "nbconvert_exporter": "python",
   "pygments_lexer": "ipython3",
   "version": "3.7.0"
  }
 },
 "nbformat": 4,
 "nbformat_minor": 2
}
