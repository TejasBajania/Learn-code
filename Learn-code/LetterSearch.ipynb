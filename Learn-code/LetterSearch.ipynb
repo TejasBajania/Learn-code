{
 "cells": [
  {
   "cell_type": "code",
   "execution_count": 21,
   "id": "a712718e",
   "metadata": {},
   "outputs": [],
   "source": [
    "input1 = 'my name is granar'\n",
    "input2 = 'a'\n",
    "\n",
    "input1.find(input2)\n",
    "list_data = [ind for ind, data in enumerate(input1.lower()) if data == input2]\n",
    "\n",
    "max_diff = max( [list_data[i+1]-list_data[i] for i in range(len(list_data)-1) if list_data[i]<list_data[i+1]] )\n",
    "value_pair = [(list_data[i],list_data[i+1]) for i in range(len(list_data)-1) if list_data[i+1]-list_data[i] == max_diff]\n",
    "first_pos = value_pair[0][0]\n",
    "end_pos = value_pair[0][1]"
   ]
  },
  {
   "cell_type": "code",
   "execution_count": 26,
   "id": "a403674d",
   "metadata": {},
   "outputs": [
    {
     "name": "stdout",
     "output_type": "stream",
     "text": [
      "4\n",
      "13\n"
     ]
    },
    {
     "data": {
      "text/plain": [
       "7"
      ]
     },
     "execution_count": 26,
     "metadata": {},
     "output_type": "execute_result"
    }
   ],
   "source": [
    "print(first_pos)\n",
    "print(end_pos)\n",
    "len(set(input1[first_pos+1:end_pos]))"
   ]
  },
  {
   "cell_type": "code",
   "execution_count": null,
   "id": "1da1d03a",
   "metadata": {},
   "outputs": [],
   "source": []
  }
 ],
 "metadata": {
  "kernelspec": {
   "display_name": "Python 3 (ipykernel)",
   "language": "python",
   "name": "python3"
  },
  "language_info": {
   "codemirror_mode": {
    "name": "ipython",
    "version": 3
   },
   "file_extension": ".py",
   "mimetype": "text/x-python",
   "name": "python",
   "nbconvert_exporter": "python",
   "pygments_lexer": "ipython3",
   "version": "3.11.3"
  }
 },
 "nbformat": 4,
 "nbformat_minor": 5
}
